{
 "cells": [
  {
   "cell_type": "markdown",
   "id": "687520c3-bdf6-4681-a9ed-3206af0bc1eb",
   "metadata": {},
   "source": [
    "# Data Science Tools and Ecosystem"
   ]
  },
  {
   "cell_type": "markdown",
   "id": "981b3131-3180-456f-a027-6b75832cdebd",
   "metadata": {},
   "source": [
    "In this notebook, Data Science Tools and Ecosystem are summarized."
   ]
  },
  {
   "cell_type": "markdown",
   "id": "03a1102f-e198-41f7-a501-b861728c46c7",
   "metadata": {},
   "source": [
    "Some of the popular languages that Data Scientists use are:\n",
    "1. Python\n",
    "2. R\n",
    "3. SQL\n",
    "4. Java\n",
    "5. JavaScript\n",
    "6. c++"
   ]
  },
  {
   "cell_type": "markdown",
   "id": "766c9635-c34e-48c3-8f81-597621f3d6b8",
   "metadata": {},
   "source": [
    "Some of the commonly used libraries used by Data Scientists include:\n",
    "1. NumPy\n",
    "2. SciPy\n",
    "3. Pandas\n",
    "4. Metplotlib\n",
    "5. TensorFlow\n",
    "6. SciKit-Learn\n",
    "7. Keras\n",
    "8. PyTorch"
   ]
  },
  {
   "cell_type": "markdown",
   "id": "0b96b8dc-dc87-45f8-b1e1-6c78fd5dd504",
   "metadata": {},
   "source": [
    "|Data Science Tools|\n",
    "|---|\n",
    "|SAS|\n",
    "|Apache Hadoop|\n",
    "|TensorFlow|"
   ]
  },
  {
   "cell_type": "markdown",
   "id": "5b94746f-728e-407c-88dd-d853bbc9a122",
   "metadata": {},
   "source": [
    "### Below are a few examples of evaluating arithmetic expressions in Python"
   ]
  },
  {
   "cell_type": "code",
   "execution_count": 5,
   "id": "75b2cea8-d19e-4831-8e05-cd0c06d5f831",
   "metadata": {
    "tags": []
   },
   "outputs": [
    {
     "data": {
      "text/plain": [
       "17"
      ]
     },
     "execution_count": 5,
     "metadata": {},
     "output_type": "execute_result"
    }
   ],
   "source": [
    "# This a simple arithmetic expression to mutiply then add integers\n",
    "(3*4)+5"
   ]
  },
  {
   "cell_type": "code",
   "execution_count": 6,
   "id": "40c2d075-5c3d-422c-8307-aa442fd1982c",
   "metadata": {
    "tags": []
   },
   "outputs": [
    {
     "data": {
      "text/plain": [
       "3.3333333333333335"
      ]
     },
     "execution_count": 6,
     "metadata": {},
     "output_type": "execute_result"
    }
   ],
   "source": [
    "# This will convert 200 minutes to hours by diving by 60\n",
    "200/60"
   ]
  },
  {
   "cell_type": "markdown",
   "id": "255dd536-a351-43f4-8776-1c353a13c1fb",
   "metadata": {},
   "source": [
    "__Objectives:__\n",
    "* List of popular languages in Data Science\n",
    "* List of commonly used libraries in Data Science\n",
    "* List of Data Science Tools\n",
    "* How to provide comment in a Code Cell\n",
    "* Evaluating arithmetic expressions in Python"
   ]
  },
  {
   "cell_type": "markdown",
   "id": "6c4f61ab-f44e-4238-95db-513159187a6b",
   "metadata": {},
   "source": [
    "## Author\n",
    "Syed Alimul Islam"
   ]
  },
  {
   "cell_type": "code",
   "execution_count": null,
   "id": "988cbc78-ad10-487b-b43f-739c86176b5e",
   "metadata": {},
   "outputs": [],
   "source": []
  }
 ],
 "metadata": {
  "kernelspec": {
   "display_name": "Python 3 (ipykernel)",
   "language": "python",
   "name": "python3"
  },
  "language_info": {
   "codemirror_mode": {
    "name": "ipython",
    "version": 3
   },
   "file_extension": ".py",
   "mimetype": "text/x-python",
   "name": "python",
   "nbconvert_exporter": "python",
   "pygments_lexer": "ipython3",
   "version": "3.11.4"
  }
 },
 "nbformat": 4,
 "nbformat_minor": 5
}
